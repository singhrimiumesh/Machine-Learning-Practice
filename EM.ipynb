{
  "nbformat": 4,
  "nbformat_minor": 0,
  "metadata": {
    "colab": {
      "provenance": [],
      "authorship_tag": "ABX9TyPVvV0+Hiy7c1+EcYeyvKnt"
    },
    "kernelspec": {
      "name": "python3",
      "display_name": "Python 3"
    },
    "language_info": {
      "name": "python"
    }
  },
  "cells": [
    {
      "cell_type": "code",
      "execution_count": null,
      "metadata": {
        "id": "50g7-iIkAoaR"
      },
      "outputs": [],
      "source": [
        "import numpy as np\n",
        "import math\n",
        "x = np.array([[3,2,8,12]])\n",
        "nMissing = 2"
      ]
    },
    {
      "cell_type": "code",
      "source": [
        "n = np.shape(x)[1]\n",
        "print(\"The training data: \\n\",x)\n",
        "\n",
        "print(\"The number of data present in x is:\", n)\n",
        "\n",
        "print(\"\\n E-step\")"
      ],
      "metadata": {
        "colab": {
          "base_uri": "https://localhost:8080/"
        },
        "id": "c7l0dRteA7Jy",
        "outputId": "79802432-2183-4b26-9d20-6bc6be2862c7"
      },
      "execution_count": null,
      "outputs": [
        {
          "output_type": "stream",
          "name": "stdout",
          "text": [
            "The training data: \n",
            " [[ 3  2  8 12]]\n",
            "The number of data present in x is: 4\n",
            "\n",
            " E-step\n"
          ]
        }
      ]
    },
    {
      "cell_type": "code",
      "source": [
        "meanI = np.sum(x)/(n+nMissing)\n",
        "missingValue = np.round(meanI)\n",
        "print(\"The mean value of the existing data is:\", meanI)\n"
      ],
      "metadata": {
        "colab": {
          "base_uri": "https://localhost:8080/"
        },
        "id": "OkDkYLI_A7Z7",
        "outputId": "1caea64c-1da1-4c55-cae5-913b8825df08"
      },
      "execution_count": null,
      "outputs": [
        {
          "output_type": "stream",
          "name": "stdout",
          "text": [
            "The mean value of the existing data is: 4.166666666666667\n"
          ]
        }
      ]
    },
    {
      "cell_type": "code",
      "source": [
        "print(\"The missing value may be:\", missingValue)\n",
        "meanPrevious = 0"
      ],
      "metadata": {
        "colab": {
          "base_uri": "https://localhost:8080/"
        },
        "id": "jKT3a6yLA7hI",
        "outputId": "46e0fcd9-43ae-4d0c-8985-19110fa355fc"
      },
      "execution_count": null,
      "outputs": [
        {
          "output_type": "stream",
          "name": "stdout",
          "text": [
            "The missing value may be: 4.0\n"
          ]
        }
      ]
    },
    {
      "cell_type": "code",
      "source": [
        "while 1:\n",
        "  meanT = meanI + (missingValue*nMissing)/(n+nMissing)\n",
        "  missingValue = meanT\n",
        "  meanDifference = meanT - meanPrevious\n",
        "  meanPrevious = meanT\n",
        "  print(\"\\n The present mean is:\", np.round(meanT, 3))\n",
        "  print(\"/n The mean difference is\", np.round(meanDifference, 3))\n",
        "  if meanDifference<0.05:\n",
        "    break\n",
        "for i in range (nMissing):\n",
        "  x = np.append(x, np.array([[meanT]]), axis = 1)\n",
        "print(\"The data with estimated outliers: \\n\", x)"
      ],
      "metadata": {
        "colab": {
          "base_uri": "https://localhost:8080/"
        },
        "id": "pVlOyLziA7ll",
        "outputId": "10017fd5-a26c-46ad-bfa3-d80b276221ed"
      },
      "execution_count": null,
      "outputs": [
        {
          "output_type": "stream",
          "name": "stdout",
          "text": [
            "\n",
            " The present mean is: 5.5\n",
            "/n The mean difference is 5.5\n",
            "\n",
            " The present mean is: 6.0\n",
            "/n The mean difference is 0.5\n",
            "\n",
            " The present mean is: 6.167\n",
            "/n The mean difference is 0.167\n",
            "\n",
            " The present mean is: 6.222\n",
            "/n The mean difference is 0.056\n",
            "\n",
            " The present mean is: 6.241\n",
            "/n The mean difference is 0.019\n",
            "The data with estimated outliers: \n",
            " [[ 3.          2.          8.         12.          6.24074074  6.24074074]]\n"
          ]
        }
      ]
    },
    {
      "cell_type": "code",
      "source": [
        "print(\"\\n The M step\")\n",
        "n = n+nMissing\n",
        "mu = np.array([[3, 2, 3, 5, 5, 5, 6]])\n",
        "sigma = np.array([[2, 3, 3, 5, 4, 3, 6]])\n",
        "print(\"The mean is:\", mu)\n",
        "print(\"The standard deviation is\", sigma)"
      ],
      "metadata": {
        "colab": {
          "base_uri": "https://localhost:8080/"
        },
        "id": "QEdRwbW_BZBb",
        "outputId": "773626ae-0a03-485f-838b-ad1c5a376b58"
      },
      "execution_count": null,
      "outputs": [
        {
          "output_type": "stream",
          "name": "stdout",
          "text": [
            "\n",
            " The M step\n",
            "The mean is: [[3 2 3 5 5 5 6]]\n",
            "The standard deviation is [[2 3 3 5 4 3 6]]\n"
          ]
        }
      ]
    },
    {
      "cell_type": "code",
      "source": [
        "print(\"Mu Sigma logL\")\n",
        "for i in range(np.shape(mu)[1]):\n",
        "  logL = -np.sum(np.square(x - mu[0,i])/(2*np.square(sigma[0,i]))) - (0.5*n*np.log10(2*math.pi)) - n*np.log10(sigma[0,i])\n",
        "  print(mu[0,i], sigma[0,i], np.round(logL,3))"
      ],
      "metadata": {
        "colab": {
          "base_uri": "https://localhost:8080/"
        },
        "id": "sV7Yh1nBBZFJ",
        "outputId": "fc4e1b55-7873-4a44-bc3c-01dad575bf91"
      },
      "execution_count": null,
      "outputs": [
        {
          "output_type": "stream",
          "name": "stdout",
          "text": [
            "Mu Sigma logL\n",
            "3 2 -20.201\n",
            "2 3 -14.867\n",
            "3 3 -12.369\n",
            "5 5 -8.07\n",
            "5 4 -8.322\n",
            "5 3 -9.373\n",
            "6 6 -7.968\n"
          ]
        }
      ]
    }
  ]
}