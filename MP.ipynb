{
  "nbformat": 4,
  "nbformat_minor": 0,
  "metadata": {
    "colab": {
      "provenance": [],
      "authorship_tag": "ABX9TyMeW6E/qu2S++FEa/Bwsxcu"
    },
    "kernelspec": {
      "name": "python3",
      "display_name": "Python 3"
    },
    "language_info": {
      "name": "python"
    }
  },
  "cells": [
    {
      "cell_type": "code",
      "execution_count": null,
      "metadata": {
        "id": "64gsILApS0Ai",
        "colab": {
          "base_uri": "https://localhost:8080/"
        },
        "outputId": "b5bb700e-41dc-4f81-e99b-9a37a9f53b9a"
      },
      "outputs": [
        {
          "name": "stdout",
          "output_type": "stream",
          "text": [
            "Enter the weight (w1)=1\n",
            "Enter the weight (w2)=1\n",
            "Enter the threshold (theta) = 2\n"
          ]
        }
      ],
      "source": [
        "# Implementation of OR gate using Mc-Culloch Pitts model\n",
        "\n",
        "import numpy as np\n",
        "x1 = np.array([0,0,1,1])\n",
        "x2 = np.array([0,1,0,1])\n",
        "y = np.array([0,1,1,1])\n",
        "w1= int(input(\"Enter the weight (w1)=\"))\n",
        "w2= int(input(\"Enter the weight (w2)=\"))\n",
        "theta = int(input(\"Enter the threshold (theta) = \"))\n"
      ]
    },
    {
      "cell_type": "code",
      "source": [
        "f = x1*w1 + x2*w2\n",
        "print(f)"
      ],
      "metadata": {
        "colab": {
          "base_uri": "https://localhost:8080/"
        },
        "id": "VbewEDyNDLTs",
        "outputId": "91915b36-c9a5-4c3a-cfa5-254a3cf8e4c5"
      },
      "execution_count": null,
      "outputs": [
        {
          "output_type": "stream",
          "name": "stdout",
          "text": [
            "[0 1 1 2]\n"
          ]
        }
      ]
    },
    {
      "cell_type": "code",
      "source": [
        "y_predict = (f>=theta)\n",
        "print(y_predict)"
      ],
      "metadata": {
        "colab": {
          "base_uri": "https://localhost:8080/"
        },
        "id": "rUBPvRH7DLdI",
        "outputId": "5d813750-b7f7-40c6-836a-f657a54d663d"
      },
      "execution_count": null,
      "outputs": [
        {
          "output_type": "stream",
          "name": "stdout",
          "text": [
            "[False False False  True]\n"
          ]
        }
      ]
    },
    {
      "cell_type": "code",
      "source": [
        "y_predict = (f>=theta).astype(int)\n",
        "print(y_predict)"
      ],
      "metadata": {
        "id": "fdyHuuvADLh7"
      },
      "execution_count": null,
      "outputs": []
    },
    {
      "cell_type": "code",
      "source": [
        "if np.all(y==y_predict):\n",
        "  print(\"Correct weights and threshold\")\n",
        "  print('w1=', w1)\n",
        "  print(\"w2=\", w2)\n",
        "  print(\"Threshold=\", theta)\n",
        "else:\n",
        "  print(\"Change the weights/Threshold\")"
      ],
      "metadata": {
        "colab": {
          "base_uri": "https://localhost:8080/"
        },
        "id": "0n2oyRDiDLk7",
        "outputId": "b8d50100-7425-4490-cc37-8dc194175542"
      },
      "execution_count": null,
      "outputs": [
        {
          "output_type": "stream",
          "name": "stdout",
          "text": [
            "Change the weights/Threshold\n"
          ]
        }
      ]
    },
    {
      "cell_type": "code",
      "source": [
        "# Implementation of AND gate using Mc-Culloch Pitts model\n",
        "import numpy as np\n",
        "x1 = np.array([0,0,1,1])\n",
        "x2 = np.array([0,1,0,1])\n",
        "y = np.array([0,0,0,1])\n",
        "w1= int(input(\"Enter the weight (w1)=\"))\n",
        "w2= int(input(\"Enter the weight (w2)=\"))\n",
        "theta = int(input(\"Enter the threshold (theta) = \"))\n"
      ],
      "metadata": {
        "colab": {
          "base_uri": "https://localhost:8080/"
        },
        "id": "Ng5o3TEgDLn7",
        "outputId": "7e8be22a-cbe5-489c-ab42-b1a770ac746a"
      },
      "execution_count": null,
      "outputs": [
        {
          "name": "stdout",
          "output_type": "stream",
          "text": [
            "Enter the weight (w1)=1\n",
            "Enter the weight (w2)=1\n",
            "Enter the threshold (theta) = 2\n"
          ]
        }
      ]
    },
    {
      "cell_type": "code",
      "source": [
        "y_predict = (f>=theta)\n",
        "print(y_predict)"
      ],
      "metadata": {
        "colab": {
          "base_uri": "https://localhost:8080/"
        },
        "id": "ujMBXAO2DLwR",
        "outputId": "52d07ddc-b97f-41fc-bd60-65b9fa57fdbb"
      },
      "execution_count": null,
      "outputs": [
        {
          "output_type": "stream",
          "name": "stdout",
          "text": [
            "[False  True  True  True]\n"
          ]
        }
      ]
    },
    {
      "cell_type": "code",
      "source": [
        "y_predict = (f>=theta).astype(int)\n",
        "print(y_predict)"
      ],
      "metadata": {
        "colab": {
          "base_uri": "https://localhost:8080/"
        },
        "id": "rClooP-qDL0F",
        "outputId": "2702f993-1aea-403d-ea8d-d4235c84703f"
      },
      "execution_count": null,
      "outputs": [
        {
          "output_type": "stream",
          "name": "stdout",
          "text": [
            "[0 1 1 1]\n"
          ]
        }
      ]
    },
    {
      "cell_type": "code",
      "source": [
        "if np.all(y==y_predict):\n",
        "  print(\"Correct weights and threshold\")\n",
        "  print('w1=', w1)\n",
        "  print(\"w2=\", w2)\n",
        "  print(\"Threshold=\", theta)\n",
        "else:\n",
        "  print(\"Change the weights/Threshold\")"
      ],
      "metadata": {
        "colab": {
          "base_uri": "https://localhost:8080/"
        },
        "id": "wsBvqyKxDL3Z",
        "outputId": "a9cc22ce-4493-478b-82b6-373d9132b324"
      },
      "execution_count": null,
      "outputs": [
        {
          "output_type": "stream",
          "name": "stdout",
          "text": [
            "Correct weights and threshold\n",
            "w1= 1\n",
            "w2= 1\n",
            "Threshold= 2\n"
          ]
        }
      ]
    },
    {
      "cell_type": "code",
      "source": [
        "# Implementation of EXOR gate using Mc-Culloch Pitts model\n",
        "# import numpy as np\n",
        "# x1 = np.array([0,0,1,1])\n",
        "# x2 = np.array([0,1,0,1])\n",
        "# y = np.array([0,1,1,0])\n",
        "# w1= int(input(\"Enter the weight (w1)=\"))\n",
        "# w2= int(input(\"Enter the weight (w2)=\"))\n",
        "# theta = int(input(\"Enter the threshold (theta) = \"))\n",
        "# y_predict = (f>=theta)\n",
        "# print(y_predict)\n",
        "# if np.all(y==y_predict):\n",
        "#   print(\"Correct weights and threshold\")\n",
        "#   print('w1=', w1)\n",
        "#   print(\"w2=\", w2)\n",
        "#   print(\"Threshold=\", theta)\n",
        "# else:\n",
        "  # print(\"Change the weights/Threshold\")\n",
        "  # done"
      ],
      "metadata": {
        "id": "WVQ8r-Y8HP2c"
      },
      "execution_count": null,
      "outputs": []
    },
    {
      "cell_type": "code",
      "source": [],
      "metadata": {
        "id": "bj2TCd7nHQP1"
      },
      "execution_count": null,
      "outputs": []
    },
    {
      "cell_type": "code",
      "source": [],
      "metadata": {
        "id": "JbsME-qGHQS1"
      },
      "execution_count": null,
      "outputs": []
    }
  ]
}